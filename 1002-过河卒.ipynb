{
 "cells": [
  {
   "cell_type": "code",
   "execution_count": 8,
   "metadata": {
    "scrolled": true
   },
   "outputs": [
    {
     "name": "stdout",
     "output_type": "stream",
     "text": [
      "6 6 3 3\n"
     ]
    }
   ],
   "source": [
    "n, m, x, y = list(map(int, input().split(' ')))"
   ]
  },
  {
   "cell_type": "code",
   "execution_count": 5,
   "metadata": {
    "scrolled": false
   },
   "outputs": [],
   "source": [
    "dx = [-2,-2,-1,-1,+1,+1,+2,+2]\n",
    "dy = [-1,+1,-2,+2,-2,+2,-1,+1]\n",
    "a = [[1 for j in range(m+1)] for i in range(n+1)]\n",
    "a[x][y] = 0\n",
    "for i in range(8):\n",
    "    nx = x + dx[i]\n",
    "    ny = y + dy[i]\n",
    "    if nx < 0 or ny < 0 or nx > n or ny > m:\n",
    "        continue\n",
    "    a[nx][ny] = 0  "
   ]
  },
  {
   "cell_type": "code",
   "execution_count": 6,
   "metadata": {},
   "outputs": [],
   "source": [
    "f = [[0 for j in range(m+1)] for i in range(n+1)]\n",
    "f[0][0] = 1\n",
    "for i in range(1, n+1):\n",
    "    if a[i][0] == 1:\n",
    "        f[i][0] = f[i-1][0]\n",
    "    else:\n",
    "        break\n",
    "for j in range(1, m+1):\n",
    "    if a[0][j] == 1:\n",
    "        f[0][j] = f[0][j-1]\n",
    "    else:\n",
    "        break        "
   ]
  },
  {
   "cell_type": "code",
   "execution_count": 7,
   "metadata": {},
   "outputs": [
    {
     "name": "stdout",
     "output_type": "stream",
     "text": [
      "6\n"
     ]
    }
   ],
   "source": [
    "for i in range(1, n+1):\n",
    "    for j in range(1, m+1):\n",
    "        if a[i][j] == 1:\n",
    "            f[i][j] = f[i-1][j] + f[i][j-1]\n",
    "print(f[n][m])"
   ]
  }
 ],
 "metadata": {
  "kernelspec": {
   "display_name": "Python 3",
   "language": "python",
   "name": "python3"
  },
  "language_info": {
   "codemirror_mode": {
    "name": "ipython",
    "version": 3
   },
   "file_extension": ".py",
   "mimetype": "text/x-python",
   "name": "python",
   "nbconvert_exporter": "python",
   "pygments_lexer": "ipython3",
   "version": "3.6.4"
  }
 },
 "nbformat": 4,
 "nbformat_minor": 4
}
